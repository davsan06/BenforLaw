{
  "nbformat": 4,
  "nbformat_minor": 0,
  "metadata": {
    "colab": {
      "provenance": [],
      "collapsed_sections": [],
      "authorship_tag": "ABX9TyN7DzKkD5NygtRXKs7VdzP7",
      "include_colab_link": true
    },
    "kernelspec": {
      "name": "ir",
      "display_name": "R"
    },
    "language_info": {
      "name": "R"
    }
  },
  "cells": [
    {
      "cell_type": "markdown",
      "metadata": {
        "id": "view-in-github",
        "colab_type": "text"
      },
      "source": [
        "<a href=\"https://colab.research.google.com/github/davsan06/BenfordLaw/blob/master/KebabSpyderChart.ipynb\" target=\"_parent\"><img src=\"https://colab.research.google.com/assets/colab-badge.svg\" alt=\"Open In Colab\"/></a>"
      ]
    },
    {
      "cell_type": "markdown",
      "source": [
        "# Radarchart con un dataset de kebabs\n",
        "\n",
        "Este es un notebook en lenguaje R para obtener figuras tipo radarchart o spiderchar para realizar comparaciones rápidas de observaciones, en este caso de un conjunto de valoraciones de kebabs. De forma esquemática:\n",
        "* Generar el conjunto de datos.\n",
        "* Establecer el formato de entrada de los datos requeridos para las funcion para graficar.\n",
        "* Graficar y personalizar la figura."
      ],
      "metadata": {
        "id": "TY-sGsBn0kBQ"
      }
    },
    {
      "cell_type": "markdown",
      "source": [],
      "metadata": {
        "id": "hPDMvz0H0i5y"
      }
    },
    {
      "cell_type": "code",
      "execution_count": 71,
      "metadata": {
        "colab": {
          "base_uri": "https://localhost:8080/"
        },
        "id": "l87d9wcjbvWk",
        "outputId": "9e348a55-f420-4c53-ee1f-a57f80be85db"
      },
      "outputs": [
        {
          "output_type": "stream",
          "name": "stderr",
          "text": [
            "Installing package into ‘/usr/local/lib/R/site-library’\n",
            "(as ‘lib’ is unspecified)\n",
            "\n"
          ]
        }
      ],
      "source": [
        "# Instalamos el paquete necesario para generar las figuras\n",
        "# ya que no es un paquete por defecto\n",
        "install.packages(\"fmsb\")"
      ]
    },
    {
      "cell_type": "code",
      "source": [
        "# Cargamos la libreria para poder acceder a sus funciones\n",
        "library(fmsb)"
      ],
      "metadata": {
        "id": "H_yIOWjDdVWf"
      },
      "execution_count": 2,
      "outputs": []
    },
    {
      "cell_type": "markdown",
      "source": [
        "## 1. Generacion de los datos"
      ],
      "metadata": {
        "id": "GHTjYE2J1kx3"
      }
    },
    {
      "cell_type": "code",
      "source": [
        "# Definimos el nombre de las variables que consideramos en nuestro analisis, seran las\n",
        "# columnas de nuestra tabla\n",
        "columns <- c('CARNE','SALSA','VARIEDAD DE LA CARTA', 'TURQUEDAD', 'PRECIO')"
      ],
      "metadata": {
        "id": "IHyhq3AieSC_"
      },
      "execution_count": 7,
      "outputs": []
    },
    {
      "cell_type": "code",
      "source": [
        "# Necesitamos que cada una de las observaciones o filas este indexado mediante\n",
        "# el nombre del restaurante, esto sera util cuando generemos la leyenda de las figuras.\n",
        "rows <- c('SUMER','SABOR FACTORY','ALADDIN','ANTALIA','EL SULTAN','KEBAB HOUSE','MUMBAY')"
      ],
      "metadata": {
        "id": "6QeSYp26SCIl"
      },
      "execution_count": 19,
      "outputs": []
    },
    {
      "cell_type": "code",
      "source": [
        "# Introducimos a mano todos los datos :(\n",
        "data_matrix <- matrix(c('SUMER', 2, 3, 5, 5, 3, \n",
        "                        'SABOR FACTORY', 2, 4, 3, 2, 3,\n",
        "                        'ALADDIN', 5, 3, 4, 3, 3,\n",
        "                        'ANTALIA', 1, 1, 2, 1, 3,\n",
        "                        'EL SULTAN', 1, 1, 5, 5, 3,\n",
        "                        'KEBAB HOUSE', 5, 5, 1, 1, 3,\n",
        "                        'MUMBAY', 2, 2, 3, 1, 5), nrow=7, ncol=6, byrow=TRUE)"
      ],
      "metadata": {
        "id": "NH037Dszjm1J"
      },
      "execution_count": 20,
      "outputs": []
    },
    {
      "cell_type": "markdown",
      "source": [
        "## 2. Formato de los datos\n",
        "\n",
        "La funcion de la libreria \"fmsb\" que vamos a utilizar necesita que los datos entre como data frame. Un data frame se puede entender como una tabla de datos o matrix que nos permite acceder a estos datos de diversas formas, ya sea por el indice numerico del elemento, el nombre de la columna o de la fila, nos permite ordenar y operar en columnas, ..."
      ],
      "metadata": {
        "id": "-JMVn9w32LhP"
      }
    },
    {
      "cell_type": "code",
      "source": [
        "# Generamos una tabla con los datos que hemos ido recogiendo en forma de data frame\n",
        "# esto sera muy util para poder acceder a partir del indice de la fila y/o del nombre\n",
        "# de la columna\n",
        "# data <- as.data.frame(data_matrix[,c(2,3,4,5,6)], ncol=4)\n",
        "data <- as.data.frame(apply(data_matrix[,c(2,3,4,5,6)], 2, function(x) as.numeric(as.character(x))), ncol=5)"
      ],
      "metadata": {
        "id": "d_IlNBQ9d1GH"
      },
      "execution_count": 21,
      "outputs": []
    },
    {
      "cell_type": "code",
      "source": [
        "# Definimos el nombre de las columnas y de las filas\n",
        "colnames(data) <- columns\n",
        "rownames(data) <- rows"
      ],
      "metadata": {
        "id": "W1PLOk0SgTGv"
      },
      "execution_count": 23,
      "outputs": []
    },
    {
      "cell_type": "code",
      "source": [
        "# Definimos como primeras filas los valores maximos y minimos de nuestras valoraciones\n",
        "# En el caso de valoraciones de kebabs, las variables pueden tomar valores entre 1 y 5.\n",
        "data <- rbind(rep(5,5) , rep(1,5) , data)"
      ],
      "metadata": {
        "id": "llHJbqVmQoxO"
      },
      "execution_count": 24,
      "outputs": []
    },
    {
      "cell_type": "code",
      "source": [
        "# Así es como se ve nuestro conjunto de datos con el formato necesario\n",
        "data"
      ],
      "metadata": {
        "colab": {
          "base_uri": "https://localhost:8080/",
          "height": 380
        },
        "id": "GK6-aXjXifRy",
        "outputId": "3ae3baa1-ba7d-4a8b-ecab-d7d67b496747"
      },
      "execution_count": 26,
      "outputs": [
        {
          "output_type": "display_data",
          "data": {
            "text/html": [
              "<table class=\"dataframe\">\n",
              "<caption>A data.frame: 9 × 5</caption>\n",
              "<thead>\n",
              "\t<tr><th></th><th scope=col>CARNE</th><th scope=col>SALSA</th><th scope=col>VARIEDAD DE LA CARTA</th><th scope=col>TURQUEDAD</th><th scope=col>PRECIO</th></tr>\n",
              "\t<tr><th></th><th scope=col>&lt;dbl&gt;</th><th scope=col>&lt;dbl&gt;</th><th scope=col>&lt;dbl&gt;</th><th scope=col>&lt;dbl&gt;</th><th scope=col>&lt;dbl&gt;</th></tr>\n",
              "</thead>\n",
              "<tbody>\n",
              "\t<tr><th scope=row>1</th><td>5</td><td>5</td><td>5</td><td>5</td><td>5</td></tr>\n",
              "\t<tr><th scope=row>2</th><td>1</td><td>1</td><td>1</td><td>1</td><td>1</td></tr>\n",
              "\t<tr><th scope=row>SUMER</th><td>2</td><td>3</td><td>5</td><td>5</td><td>3</td></tr>\n",
              "\t<tr><th scope=row>SABOR FACTORY</th><td>2</td><td>4</td><td>3</td><td>2</td><td>3</td></tr>\n",
              "\t<tr><th scope=row>ALADDIN</th><td>5</td><td>3</td><td>4</td><td>3</td><td>3</td></tr>\n",
              "\t<tr><th scope=row>ANTALIA</th><td>1</td><td>1</td><td>2</td><td>1</td><td>3</td></tr>\n",
              "\t<tr><th scope=row>EL SULTAN</th><td>1</td><td>1</td><td>5</td><td>5</td><td>3</td></tr>\n",
              "\t<tr><th scope=row>KEBAB HOUSE</th><td>5</td><td>5</td><td>1</td><td>1</td><td>3</td></tr>\n",
              "\t<tr><th scope=row>MUMBAY</th><td>2</td><td>2</td><td>3</td><td>1</td><td>5</td></tr>\n",
              "</tbody>\n",
              "</table>\n"
            ],
            "text/markdown": "\nA data.frame: 9 × 5\n\n| <!--/--> | CARNE &lt;dbl&gt; | SALSA &lt;dbl&gt; | VARIEDAD DE LA CARTA &lt;dbl&gt; | TURQUEDAD &lt;dbl&gt; | PRECIO &lt;dbl&gt; |\n|---|---|---|---|---|---|\n| 1 | 5 | 5 | 5 | 5 | 5 |\n| 2 | 1 | 1 | 1 | 1 | 1 |\n| SUMER | 2 | 3 | 5 | 5 | 3 |\n| SABOR FACTORY | 2 | 4 | 3 | 2 | 3 |\n| ALADDIN | 5 | 3 | 4 | 3 | 3 |\n| ANTALIA | 1 | 1 | 2 | 1 | 3 |\n| EL SULTAN | 1 | 1 | 5 | 5 | 3 |\n| KEBAB HOUSE | 5 | 5 | 1 | 1 | 3 |\n| MUMBAY | 2 | 2 | 3 | 1 | 5 |\n\n",
            "text/latex": "A data.frame: 9 × 5\n\\begin{tabular}{r|lllll}\n  & CARNE & SALSA & VARIEDAD DE LA CARTA & TURQUEDAD & PRECIO\\\\\n  & <dbl> & <dbl> & <dbl> & <dbl> & <dbl>\\\\\n\\hline\n\t1 & 5 & 5 & 5 & 5 & 5\\\\\n\t2 & 1 & 1 & 1 & 1 & 1\\\\\n\tSUMER & 2 & 3 & 5 & 5 & 3\\\\\n\tSABOR FACTORY & 2 & 4 & 3 & 2 & 3\\\\\n\tALADDIN & 5 & 3 & 4 & 3 & 3\\\\\n\tANTALIA & 1 & 1 & 2 & 1 & 3\\\\\n\tEL SULTAN & 1 & 1 & 5 & 5 & 3\\\\\n\tKEBAB HOUSE & 5 & 5 & 1 & 1 & 3\\\\\n\tMUMBAY & 2 & 2 & 3 & 1 & 5\\\\\n\\end{tabular}\n",
            "text/plain": [
              "              CARNE SALSA VARIEDAD DE LA CARTA TURQUEDAD PRECIO\n",
              "1             5     5     5                    5         5     \n",
              "2             1     1     1                    1         1     \n",
              "SUMER         2     3     5                    5         3     \n",
              "SABOR FACTORY 2     4     3                    2         3     \n",
              "ALADDIN       5     3     4                    3         3     \n",
              "ANTALIA       1     1     2                    1         3     \n",
              "EL SULTAN     1     1     5                    5         3     \n",
              "KEBAB HOUSE   5     5     1                    1         3     \n",
              "MUMBAY        2     2     3                    1         5     "
            ]
          },
          "metadata": {}
        }
      ]
    },
    {
      "cell_type": "code",
      "source": [
        "# Definimos unos colores aleatorios para graficar, los tres primeros elementos del color\n",
        "# indican la composición en el esquema RGB y el cuarto parametro indica el nivel de transparencia.\n",
        "colors_border=c( rgb(0.2,0.5,0.5,0.9), rgb(0.8,0.2,0.5,0.9) , rgb(0.7,0.5,0.1,0.9), rgb(0.5,0.5,0.1,0.9), rgb(0.5,0.9,0.1,0.9), rgb(0.2,0.2,0.2,0.9), rgb(0.2,0.7,0.2,0.9)  )\n",
        "colors_in=c( rgb(0.2,0.5,0.5,0.4), rgb(0.8,0.2,0.5,0.4) , rgb(0.7,0.5,0.1,0.4), rgb(0.5,0.5,0.1,0.4), rgb(0.5,0.9,0.1,0.4), rgb(0.2,0.2,0.2,0.4), rgb(0.2,0.7,0.2,0.4) )"
      ],
      "metadata": {
        "id": "zGBg8DjbSoq5"
      },
      "execution_count": 35,
      "outputs": []
    },
    {
      "cell_type": "markdown",
      "source": [
        "Dividimos nuestros datos de restaurantes en dos graficas distintas para mayor claridad."
      ],
      "metadata": {
        "id": "-s75gK6j3JyB"
      }
    },
    {
      "cell_type": "code",
      "source": [
        "# Iniciamos la figura donde guardaremos\n",
        "png(file=\"radarchart_kebab_1.png\",\n",
        "width=500, height=500)\n",
        "# Generamos la figura\n",
        "radarchart(data[c(1,2,3,4,5,6),], axistype = 1,\n",
        "           #custom polygon\n",
        "           pcol=colors_border , pfcol=colors_in , plwd=4 , plty=1,\n",
        "           #custom the grid\n",
        "           cglcol=\"grey\", cglty=1, axislabcol=\"grey\", caxislabels=seq(1,5,1), cglwd=0.8,\n",
        "           #custom labels\n",
        "           vlcex=0.8 )\n",
        "# Introducimos una leyenda que nos indique el restaurante\n",
        "legend(x=0.4, y=1.35, legend = rownames(data[c(3,4,5,6),]), bty = \"n\", pch=20, text.col = \"black\", cex=1.2, pt.cex=3, col=colors_in)\n",
        "# Guardamos la figura \n",
        "dev.off()"
      ],
      "metadata": {
        "colab": {
          "base_uri": "https://localhost:8080/",
          "height": 34
        },
        "id": "4caNjr_0oLvG",
        "outputId": "4837974f-8268-47ee-f4f1-181c5d812235"
      },
      "execution_count": 77,
      "outputs": [
        {
          "output_type": "display_data",
          "data": {
            "text/html": [
              "<strong>png:</strong> 2"
            ],
            "text/markdown": "**png:** 2",
            "text/latex": "\\textbf{png:} 2",
            "text/plain": [
              "png \n",
              "  2 "
            ]
          },
          "metadata": {}
        }
      ]
    },
    {
      "cell_type": "code",
      "source": [
        "# Iniciamos la figura donde guardaremos\n",
        "png(file=\"radarchart_kebab_2.png\",\n",
        "width=500, height=500)\n",
        "# Generamos la figura\n",
        "radarchart(data[c(1,2,7,8,9),], axistype = 1,\n",
        "           #custom polygon\n",
        "           pcol=colors_border , pfcol=colors_in , plwd=4 , plty=1,\n",
        "           #custom the grid\n",
        "           cglcol=\"grey\", cglty=1, axislabcol=\"grey\", caxislabels=seq(1,5,1), cglwd=0.8,\n",
        "           #custom labels\n",
        "           vlcex=0.8 )\n",
        "# Introducimos una leyenda que nos indique el restaurante\n",
        "legend(x=0.4, y=1.35, legend = rownames(data[c(7,8,9),]), bty = \"n\", pch=20, text.col = \"black\", cex=1.2, pt.cex=3, col=colors_in)\n",
        "# Guardamos la figura \n",
        "dev.off()"
      ],
      "metadata": {
        "colab": {
          "base_uri": "https://localhost:8080/",
          "height": 34
        },
        "id": "4FTMAKeCfPEF",
        "outputId": "2da78d24-dd1a-468e-b1b6-f7ff2e6acac8"
      },
      "execution_count": 78,
      "outputs": [
        {
          "output_type": "display_data",
          "data": {
            "text/html": [
              "<strong>png:</strong> 2"
            ],
            "text/markdown": "**png:** 2",
            "text/latex": "\\textbf{png:} 2",
            "text/plain": [
              "png \n",
              "  2 "
            ]
          },
          "metadata": {}
        }
      ]
    },
    {
      "cell_type": "code",
      "source": [],
      "metadata": {
        "id": "QzJ2nrEc3s6K"
      },
      "execution_count": null,
      "outputs": []
    }
  ]
}